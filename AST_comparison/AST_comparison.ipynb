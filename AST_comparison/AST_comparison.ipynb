{
 "cells": [
  {
   "cell_type": "code",
   "execution_count": 2,
   "metadata": {},
   "outputs": [],
   "source": [
    "class Node:\n",
    "    def __init__(self, key):\n",
    "        self.left = None\n",
    "        self.right = None\n",
    "        self.val = key\n",
    "\n",
    "class BinaryTree:\n",
    "    def __init__(self):\n",
    "        self.root = None\n",
    "        \n",
    "    def addNode(self, node, value):\n",
    "        if(node==None):\n",
    "            self.root = Node(value)\n",
    "        else:\n",
    "            if(value<node.val):\n",
    "                if(node.left==None):\n",
    "                    node.left = Node(value)\n",
    "                else:\n",
    "                    self.addNode(node.left, value)\n",
    "            else:\n",
    "                if(node.right==None):\n",
    "                    node.right = Node(value)\n",
    "                else:\n",
    "                    self.addNode(node.right, value)\n",
    "        \n",
    "def nodes_of_tree(root,nodes_list=[]):\n",
    "    if root:\n",
    "        nodes_of_tree(root.left,nodes_list)\n",
    "        nodes_list.append(root)\n",
    "        nodes_of_tree(root.right,nodes_list)\n",
    "    return nodes_list\n",
    "\n",
    "def preOrder(root,list_preorder=[]):\n",
    "    if root:\n",
    "        list_preorder.append(root.val)\n",
    "        #print(root.val)\n",
    "        preOrder(root.left,list_preorder)\n",
    "        preOrder(root.right,list_preorder)\n",
    "    return list_preorder\n",
    "\n",
    "def inOrder(root,list_inorder=[]):\n",
    "    if root:\n",
    "        inOrder(root.left,list_inorder)\n",
    "        list_inorder.append(root.val)\n",
    "        #print(root.val)\n",
    "        inOrder(root.right,list_inorder)\n",
    "    return list_inorder\n",
    "\n",
    "def postOrder(root,list_postorder=[]):\n",
    "    if root:\n",
    "        list_postorder.append(root.val)\n",
    "        postOrder(root.left,list_postorder)\n",
    "        postOrder(root.right,list_postorder)\n",
    "    return list_postorder\n",
    "        "
   ]
  },
  {
   "cell_type": "code",
   "execution_count": 3,
   "metadata": {},
   "outputs": [],
   "source": [
    "File1=[]\n",
    "Tree1_preorder_inorder_tuples=[]\n",
    "for binary_tree_1 in File1:\n",
    "    binary_tree_1_node_list=[]\n",
    "    nodes_of_tree(binary_tree_1.root,binary_tree_1_node_list)\n",
    "    \n",
    "    for i in binary_tree_1_node_list:\n",
    "        preorder_i=[]\n",
    "        inorder_i=[]\n",
    "        Tree1_preorder_inorder_tuples.append((preOrder(i,preorder_i),inOrder(i,inorder_i)))\n",
    "    "
   ]
  },
  {
   "cell_type": "code",
   "execution_count": 4,
   "metadata": {},
   "outputs": [
    {
     "data": {
      "text/plain": [
       "[]"
      ]
     },
     "execution_count": 4,
     "metadata": {},
     "output_type": "execute_result"
    }
   ],
   "source": [
    "Tree1_preorder_inorder_tuples"
   ]
  },
  {
   "cell_type": "code",
   "execution_count": 6,
   "metadata": {},
   "outputs": [],
   "source": [
    "binary_tree_1_node_list"
   ]
  },
  {
   "cell_type": "code",
   "execution_count": 7,
   "metadata": {},
   "outputs": [],
   "source": [
    "File2=[]\n",
    "Tree2_preorder_inorder_tuples=[]\n",
    "for binary_tree_2 in File2:\n",
    "    binary_tree_2_node_list=[]\n",
    "    nodes_of_tree(binary_tree_2,binary_tree_2_node_list)\n",
    "    \n",
    "    for i in binary_tree_2_node_list:\n",
    "        preorder_i=[]\n",
    "        inorder_i=[]\n",
    "        Tree2_preorder_inorder_tuples.append(tuple(preOrder(i,preorder_i),inOrder(i,inorder_i)))\n",
    "    "
   ]
  },
  {
   "cell_type": "code",
   "execution_count": 9,
   "metadata": {},
   "outputs": [],
   "source": [
    "count=0\n",
    "for i in range(len(Tree1_preorder_inorder_tuples)):\n",
    "    for j in range(len(Tree2_preorder_inorder_tuples)):\n",
    "        if(Tree1_preorder_inorder_tuples[i]==Tree2_preorder_inorder_tuples[j] and Tree1_preorder_inorder_tuples[i]!=-1):\n",
    "            count+=1\n",
    "            Tree1_preorder_inorder_tuples[i]=-1\n",
    "            Tree2_preorder_inorder_tuples[j]=-1"
   ]
  },
  {
   "cell_type": "code",
   "execution_count": 11,
   "metadata": {},
   "outputs": [],
   "source": [
    "percentage_common = count/((len(Tree1_preorder_inorder_tuples)+len(Tree2_preorder_inorder_tuples))//2)"
   ]
  },
  {
   "cell_type": "code",
   "execution_count": null,
   "metadata": {},
   "outputs": [],
   "source": []
  }
 ],
 "metadata": {
  "kernelspec": {
   "display_name": "Python 3",
   "language": "python",
   "name": "python3"
  },
  "language_info": {
   "codemirror_mode": {
    "name": "ipython",
    "version": 3
   },
   "file_extension": ".py",
   "mimetype": "text/x-python",
   "name": "python",
   "nbconvert_exporter": "python",
   "pygments_lexer": "ipython3",
   "version": "3.8.8"
  }
 },
 "nbformat": 4,
 "nbformat_minor": 4
}
